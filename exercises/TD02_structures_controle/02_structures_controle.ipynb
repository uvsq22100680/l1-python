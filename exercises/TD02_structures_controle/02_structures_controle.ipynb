{
 "cells": [
  {
   "cell_type": "markdown",
   "metadata": {
    "slideshow": {
     "slide_type": "slide"
    }
   },
   "source": [
    "# TD 2: Les structures de contrôle\n",
    "\n",
    "---\n",
    "\n",
    "## 0. Récupération des nouveaux documents\n",
    "\n",
    "\n",
    "Les sujets de TD ainsi que les supports de cours sont publiés en ligne au fur et à mesure sur l'espace github original [https://github.com/uvsq-info/l1-python](https://github.com/uvsq-info/l1-python). Au moment où vous avez fait le fork de cet espace sur votre espace personnel, il est probable que tous les contenus n'étaient pas présents. Pour compléter votre espace, deux solutions sont possibles:\n",
    "\n",
    "\n",
    "1. (solution à privilégier) aller sur la page du projet original [https://github.com/uvsq-info/l1-python](https://github.com/uvsq-info/l1-python), et cliquer sur le bouton vert `Code` en haut à droite. Choisir `download ZIP`, puis extraire l'ensemble des nouveaux fichiers vers votre projet personnel local. Vous pouvez ensuite sauvegarder ces ajouts dans votre espace github personnel en suivant la procédure habituelle.\n",
    "2. (solution qui présente des risques de conflits entre différentes versions d'un même document) en ligne de commande dans le terminal, en suivant la procédure de la section *Intégrer les mises à jour du projet original* du fichier [README.md](https://github.com/uvsq-info/l1-python/blob/master/README.md#int%C3%A9grer-les-mises-%C3%A0-jour-du-projet-original)\n"
   ]
  },
  {
   "cell_type": "markdown",
   "metadata": {
    "slideshow": {
     "slide_type": "slide"
    }
   },
   "source": [
    "---\n",
    "\n",
    "## 1. Premiers exercices avec les structures conditionnelles\n",
    "\n",
    "**Exercice 1:**\n",
    "\n",
    "1. Soit *num1 = 15* et *num2 = 5*. Ecrire un programme qui affiche *Factors!* si l'un des nombres est un facteur de l'autre (c'est-à-dire qu'il divise l'autre nombre). Si aucun des nombres n'est un facteur de l'autre, le programme n'affiche rien.\n",
    "2. Changer le code que vous avez écrit de telle sorte qu'il affiche toujours *Factors!* si un nombre est un facteur de l'autre, mais qui affiche aussi *Not factors!* si aucun des nombres n'est un facteur de l'autre."
   ]
  },
  {
   "cell_type": "code",
   "execution_count": 2,
   "metadata": {
    "slideshow": {
     "slide_type": "notes"
    }
   },
   "outputs": [
    {
     "name": "stdout",
     "output_type": "stream",
     "text": [
      "Not factors!\n"
     ]
    }
   ],
   "source": [
    "num1 = 15\n",
    "num2 = 6\n",
    "if num1 % num2 == 0 or num2 % num1 == 0:\n",
    "    print(\"Factors!\")\n",
    "else:\n",
    "    print(\"Not factors!\")\n",
    "\n"
   ]
  },
  {
   "cell_type": "markdown",
   "metadata": {
    "slideshow": {
     "slide_type": "slide"
    }
   },
   "source": [
    "**Exercice 2:**\n",
    "    \n",
    "Soit *state = \"Georgia\"*. Ecrire un programme qui permet d'afficher un message spécifique en fonction de la variable *state* :  \n",
    "* \"School isn't cancelled.\" si nous sommes à New Jersey,  \n",
    "* \"School is postponed.\" si nous sommes à North Carolina,\n",
    "* \"School is cancelled!\" si nous sommes à Georgia,  \n",
    "* \"School's status is unknown\" si nous ne sommes pas dans un des trois états précédemment mentionnés."
   ]
  },
  {
   "cell_type": "code",
   "execution_count": 5,
   "metadata": {
    "slideshow": {
     "slide_type": "notes"
    }
   },
   "outputs": [
    {
     "name": "stdout",
     "output_type": "stream",
     "text": [
      "School's status is unknow\n"
     ]
    }
   ],
   "source": [
    "state = \"France\"\n",
    "if state == \"Georgia\":\n",
    "    print(\"School is cancelled!\")\n",
    "elif state == \"New Jersey\":\n",
    "    print(\"School isn't cancelled\")    \n",
    "elif state == \"North Carolina\":\n",
    "    print(\"School is postponed\")\n",
    "else: \n",
    "    print(\"School's status is unknow\")"
   ]
  },
  {
   "cell_type": "markdown",
   "metadata": {
    "slideshow": {
     "slide_type": "slide"
    }
   },
   "source": [
    "**Exercice 3:**\n",
    "\n",
    "Ecrire un programme pour découvrir le signe du zodiaque chinois pour une année donnée. Le signe du zodiaque chinois est basé sur un cycle de 12 ans et chaque année de ce cycle est représentée par un animal :\n",
    "* 0: monkey\n",
    "* 1: rooster\n",
    "* 2: dog\n",
    "* 3: pig\n",
    "* 4: rat\n",
    "* 5: ox\n",
    "* 6: tiger\n",
    "* 7: rabbit\n",
    "* 8: dragon\n",
    "* 9: snake\n",
    "* 10: horse\n",
    "* 11: sheep\n",
    "\n",
    "La valeur de l'année % 12 détermine le signe du zodiaque. Par exemple, 1900 est l'année du *rat* puisque 1900 % 12 est 4."
   ]
  },
  {
   "cell_type": "code",
   "execution_count": 34,
   "metadata": {
    "slideshow": {
     "slide_type": "notes"
    }
   },
   "outputs": [
    {
     "name": "stdout",
     "output_type": "stream",
     "text": [
      "monkey\n",
      "fin programme\n"
     ]
    }
   ],
   "source": [
    "annee = int(input())\n",
    "if annee % 12 == 0:\n",
    "    print(\"monkey\")\n",
    "elif annee % 12 == 1:\n",
    "    print(\"rooster\")\n",
    "elif annee % 12 == 2:\n",
    "    print(\"dog\")\n",
    "elif annee % 12 == 3:\n",
    "    print(\"pig\")\n",
    "elif annee % 12 == 4:\n",
    "    print(\"rat\")\n",
    "elif annee % 12 == 5:\n",
    "    print(\"ox\")\n",
    "elif annee % 12 == 6:\n",
    "    print(\"tiger\")\n",
    "elif annee % 12 == 7:\n",
    "    print(\"rabit\")\n",
    "elif annee % 12 == 8:\n",
    "    print(\"dragon\")\n",
    "elif annee % 12 == 9:\n",
    "    print(\"snake\")\n",
    "elif annee % 12 == 10:\n",
    "    print(\"horse\")\n",
    "elif annee % 12 == 11:\n",
    "    print(\"sneep\")\n",
    "print(\"fin programme\")"
   ]
  },
  {
   "cell_type": "markdown",
   "metadata": {
    "slideshow": {
     "slide_type": "slide"
    }
   },
   "source": [
    "**Exercice 4:**\n",
    "\n",
    "Soit *temperature = -3.7* et *celsius = True*. *celsius* est une variable booléenne qui indique si la température est en Celsius; si c'est *False*, alors la température donnée est en Fahrenheit. Ecrire un premier programme en utilisant *if-else* seulement qui permet d'afficher *Freezing* si les valeurs données représentent une température très basse, et *Not freezing* si ce n'est pas le cas. En Celsius, on considère qu'il fait très froid lorsque la température est inférieure ou égale à 0 degré. En Fahrenheit, on considère qu'il fait très froid lorsque la température est inférieure ou égale à 32 degrés. Proposer une seconde solution en utilisant *if-elif-else* à ce même problème."
   ]
  },
  {
   "cell_type": "code",
   "execution_count": 2,
   "metadata": {
    "slideshow": {
     "slide_type": "notes"
    }
   },
   "outputs": [
    {
     "name": "stdout",
     "output_type": "stream",
     "text": [
      "Freezing !\n"
     ]
    }
   ],
   "source": [
    "temperature = 25\n",
    "celsius = True\n",
    "if celsius == True : \n",
    "    if temperature < 0 :\n",
    "        print(temperature,\"is Freezing en celsius\")  \n",
    "    else:\n",
    "        print(temperature,\"is not freezing en celsius\")\n",
    "if celsius == False :\n",
    "    if temperature < 32:\n",
    "        print(temperature,\"is freezing en Fahrenheit\")\n",
    "    else:print(temperature,\"is not freezing en Fahrenheit\")\n"
   ]
  },
  {
   "cell_type": "markdown",
   "metadata": {
    "slideshow": {
     "slide_type": "slide"
    }
   },
   "source": [
    "**Exercice 5:**\n",
    "    \n",
    "Ecrire un programme qui permet de déterminer si une année est bissextile ou non en utilisant une seule instruction *if-else*. Une année *A* est bissextile si *A* est divisible par 4. Elle ne l’est cependant pas si *A* est un multiple\n",
    "de 100, à moins que *A* ne soit multiple de 400.    "
   ]
  },
  {
   "cell_type": "code",
   "execution_count": 53,
   "metadata": {
    "slideshow": {
     "slide_type": "notes"
    }
   },
   "outputs": [
    {
     "name": "stdout",
     "output_type": "stream",
     "text": [
      "année non bissextile\n"
     ]
    }
   ],
   "source": [
    "annee = int(input(\"Entrez une année\"))\n",
    "if annee % 4 == 0 and  annee % 100 != 0 or annee % 400 == 0:\n",
    "    print(\"année bissextile\")\n",
    "else:\n",
    "    print(\"année non bissextile\")\n",
    "\n"
   ]
  },
  {
   "cell_type": "markdown",
   "metadata": {},
   "source": [
    "---\n",
    "\n",
    "## 2. Premiers exercices avec les structures itératives\n",
    "\n",
    "**Exercice 6:**\n",
    "\n",
    "1. Ecrire un programme qui permet d'afficher tous les nombres entre 1 et 10 (bornes incluses).\n",
    "2. Ecrire un programme se limitant à la boucle *for* qui permet d'afficher tous les nombres pairs entre 1 et 20 (bornes incluses). Proposer une deuxième solution en incluant une structure conditionnelle."
   ]
  },
  {
   "cell_type": "code",
   "execution_count": 7,
   "metadata": {},
   "outputs": [
    {
     "name": "stdout",
     "output_type": "stream",
     "text": [
      " afficher les valeurs entre 1 et 10 \n",
      "1\n",
      "2\n",
      "3\n",
      "4\n",
      "5\n",
      "6\n",
      "7\n",
      "8\n",
      "9\n",
      "10\n",
      "fin\n"
     ]
    }
   ],
   "source": [
    "print(\" afficher les valeurs entre 1 et 10 \")\n",
    "for i in range(1, 11):\n",
    "    print(i)\n",
    "print(\"fin\")"
   ]
  },
  {
   "cell_type": "code",
   "execution_count": 66,
   "metadata": {},
   "outputs": [
    {
     "name": "stdout",
     "output_type": "stream",
     "text": [
      " afficher les nombres pairs entre 1 et 10 \n",
      "i= 2\n",
      "i= 4\n",
      "i= 6\n",
      "i= 8\n",
      "i= 10\n",
      "i= 12\n",
      "i= 14\n",
      "i= 16\n",
      "i= 18\n",
      "i= 20\n",
      "fin\n"
     ]
    }
   ],
   "source": [
    "print(\" afficher les nombres pairs entre 1 et 10 \")\n",
    "for i in range(1, 21):\n",
    "    if i % 2 == 0:\n",
    "         print(\"i=\",i)\n",
    "print(\"fin\")\n"
   ]
  },
  {
   "cell_type": "markdown",
   "metadata": {},
   "source": [
    "**Exercice 7:**\n",
    "    \n",
    "1. Ecrire un programme qui demande à l'utilisateur de saisir *n* nombres, *n* étant choisi par l'utilisateur, puis d'afficher la moyenne de ces nombres.\n",
    "\n",
    "2. Même question, mais l'utilisateur ne choisit pas à l'avance le nombre *n*, la procédure s'arrête quand il saisit le nombre -1.\n"
   ]
  },
  {
   "cell_type": "code",
   "execution_count": 12,
   "metadata": {},
   "outputs": [
    {
     "name": "stdout",
     "output_type": "stream",
     "text": [
      "382.0\n"
     ]
    }
   ],
   "source": [
    "quantite = int(input(\"combien de nombres allez vous choisir ?\"))\n",
    "somme = 0\n",
    "for i in range(quantite):\n",
    "    nombre = int(input(\"écriver un nombre\") + str(i))\n",
    "    somme = somme + nombre\n",
    "print(somme / n)\n",
    "\n"
   ]
  },
  {
   "cell_type": "code",
   "execution_count": 22,
   "metadata": {},
   "outputs": [
    {
     "name": "stdout",
     "output_type": "stream",
     "text": [
      "La moyenne de 4 nombres est : 4.0\n"
     ]
    }
   ],
   "source": [
    "somme = 0\n",
    "quantite = 0\n",
    "nombre_saisi = 0\n",
    "while True :\n",
    "    nombre_saisi = int(input(\"Saisissez un nombre\"))\n",
    "    if nombre_saisi == -1 :\n",
    "        break\n",
    "    somme += nombre_saisi\n",
    "    quantite += 1\n",
    "print(\"La moyenne de\", quantite, \"nombres est :\", somme/quantite)"
   ]
  },
  {
   "cell_type": "markdown",
   "metadata": {},
   "source": [
    "**Exercice 8:**\n",
    "\n",
    "Ecrire un programme qui permet de calculer le factoriel d'un nombre positif donné par l'utlisateur selon la formule suivante : \n",
    "n! = 1 x 2 x ... x n.  \n",
    "\n",
    "1. Une première version en utilisant la boucle *for*\n",
    "2. Une seconde version en utilisant la boucle *while*"
   ]
  },
  {
   "cell_type": "code",
   "execution_count": 27,
   "metadata": {},
   "outputs": [
    {
     "name": "stdout",
     "output_type": "stream",
     "text": [
      "Factorielle de 5 est égal à 120\n"
     ]
    }
   ],
   "source": [
    "nombre = int(input(\"Donnez un nombre\"))\n",
    "if nombre < 0 :\n",
    "    print(\"Mauvais nombre !\")\n",
    "else :\n",
    "    resultat = 1\n",
    "    for i in range(1, nombre + 1) :\n",
    "        resultat *= i\n",
    "    print(\"Factorielle de\", nombre, \"est égal à\", resultat)"
   ]
  },
  {
   "cell_type": "code",
   "execution_count": 30,
   "metadata": {},
   "outputs": [
    {
     "name": "stdout",
     "output_type": "stream",
     "text": [
      "Factorielle 4 est égal à 24\n"
     ]
    }
   ],
   "source": [
    "nombre = int(input(\"Donnez un nombre\"))\n",
    "if nombre < 0 :\n",
    "    print(\"Mauvais nombre !\")\n",
    "else :\n",
    "    resultat = 1\n",
    "    i = 1\n",
    "    while i <= nombre :\n",
    "        resultat *= i\n",
    "        i += 1\n",
    "    print(\"Factorielle\", nombre, \"est égal à\", resultat)\n",
    "    \n"
   ]
  },
  {
   "cell_type": "markdown",
   "metadata": {
    "slideshow": {
     "slide_type": "slide"
    }
   },
   "source": [
    "---\n",
    "\n",
    "## 3. Pour aller plus loin\n",
    "\n",
    "**Excercice 9:**\n",
    "\n",
    "Ecrire un programme qui permet de connaître le jour de naissance de l'utilisateur en posant cinq questions.\n",
    "Chaque question demande si le jour est dans l'un des cinq ensembles suivants :\n",
    "\n",
    "* Set 1: \\[1 3 5 7 9 11 13 15 17 19 21 23 25 27 29 31\\]\n",
    "* Set 2: \\[2 3 6 7 10 11 14 15 18 19 22 23 26 27 30 31\\]\n",
    "* Set 3: \\[4 5 6 7 12 13 14 15 20 21 22 23 28 29 30 31\\]\n",
    "* Set 4: \\[8 9 10 11 12 13 14 15 24 25 26 27 28 29 30 31\\]\n",
    "* Set 5: \\[16 17 18 19 20 21 22 23 24 25 26 27 28 29 30 31\\]\n",
    "    \n",
    "\n",
    "Le jour de naissance est la somme des premiers nombres dans les ensembles où le jour apparaît. Par exemple,\n",
    "si le jour de naissance est 19, il apparaît dans Set 1, Set 2 et Set 5. Les premiers chiffres de ces trois ensembles sont 1, 2 et 16. Leur somme est 19."
   ]
  },
  {
   "cell_type": "code",
   "execution_count": 31,
   "metadata": {
    "slideshow": {
     "slide_type": "notes"
    }
   },
   "outputs": [
    {
     "name": "stdout",
     "output_type": "stream",
     "text": [
      "Votre jour de naissance est 28\n"
     ]
    }
   ],
   "source": [
    "jour_de_naissance = 0\n",
    "reponse = int(input(\"Votre jour de naissance est il dans cette liste ? (0 = non, 1 = oui) 1 3 5 7 9 11 13 15 17 19 21 23 25 27 29 31\"))\n",
    "if reponse == 1 :\n",
    "    jour_de_naissance += 1\n",
    "\n",
    "reponse = int(input(\"Votre jour de naissance est il dans cette liste ? (0 = non, 1 = oui) 2 3 6 7 10 11 14 15 18 19 22 23 26 27 30 31\"))\n",
    "if reponse == 1 :\n",
    "    jour_de_naissance += 2\n",
    "\n",
    "reponse = int(input(\"Votre jour de naissance est il dans cette liste ? (0 = non, 1 = oui) 4 5 6 7 12 13 14 15 20 21 22 23 28 29 30 31\"))\n",
    "if reponse == 1 :\n",
    "    jour_de_naissance += 4\n",
    "\n",
    "reponse = int(input(\"Votre jour de naissance est il dans cette liste ? (0 = non, 1 = oui) 8 9 10 11 12 13 14 15 24 25 26 27 28 29 30 31\"))\n",
    "if reponse == 1 :\n",
    "    jour_de_naissance += 8\n",
    "\n",
    "reponse = int(input(\"Votre jour de naissance est il dans cette liste ? (0 = non, 1 = oui) 16 17 18 19 20 21 22 23 24 25 26 27 28 29 30 31\"))\n",
    "if reponse == 1 :\n",
    "    jour_de_naissance += 16\n",
    "\n",
    "print(\"Votre jour de naissance est\", jour_de_naissance)"
   ]
  },
  {
   "cell_type": "markdown",
   "metadata": {
    "slideshow": {
     "slide_type": "slide"
    }
   },
   "source": [
    "**Excercice 10:**\n",
    "\n",
    "Ecrire un programme qui permet de génèrer de manière aléatoire un nombre à deux chiffres, invite l'utilisateur à saisir un nombre à deux chiffres et détermine si l'utilisateur gagne selon les règles suivantes :\n",
    "* Si l'entrée de l'utilisateur correspond à la loterie (le nombre généré aléatoirement) dans l'ordre exact, la récompense est de 10 000€.\n",
    "* Sinon, si les deux chiffres entrés par l'utilisateur correspondent aux deux chiffres du numéro de loterie, la récompense est de 3 000€.\n",
    "* Sinon, si un chiffre dans l'entrée de l'utilisateur correspond à un chiffre dans le numéro de loterie, la récompense est de 1 000€.\n",
    "\n",
    "**Astuce :** Utiliser la fonction **random.randint(0, 99)** pour génèrer de manière aléatoire un nombre à deux chiffres. Cette fonction doit être accompagné par **import random** comme première instruction dans le code."
   ]
  },
  {
   "cell_type": "code",
   "execution_count": 45,
   "metadata": {
    "slideshow": {
     "slide_type": "notes"
    }
   },
   "outputs": [
    {
     "name": "stdout",
     "output_type": "stream",
     "text": [
      "Vous avez gagné 1 000€ !\n",
      "Le nombre gagnant était 88\n"
     ]
    }
   ],
   "source": [
    "import random\n",
    "aleatoire = random.randint(0, 99)\n",
    "\n",
    "# Pour faciliter les manipulations, nous stockons le chiffre des dizaines \n",
    "# et le chiffre unités dans deux variables distinctes.\n",
    "aleatoire_dizaine = aleatoire // 10\n",
    "aleatoire_unite = aleatoire % 10\n",
    "\n",
    "proposition = int(input(\"Proposez un nombre à deux chiffres\"))\n",
    "proposition_dizaine = proposition // 10\n",
    "proposition_unite = proposition % 10\n",
    "\n",
    "if proposition == aleatoire :\n",
    "    print(\"Vous avez gagné 10 000€ !\")\n",
    "elif aleatoire_dizaine == proposition_unite and aleatoire_unite == proposition_dizaine :\n",
    "    print(\"Vous avez gagné 3 000€ !\")\n",
    "# Afin d'éviter que la ligne de code suivante soit trop longue, nous l'étalons \n",
    "# sur plusieurs lignes en mettant le caractère \\ à la fin. C'est purement esthétique.\n",
    "elif aleatoire_dizaine == proposition_dizaine \\\n",
    "    or aleatoire_dizaine == proposition_unite \\\n",
    "    or aleatoire_unite == proposition_dizaine \\\n",
    "    or aleatoire_unite == proposition_unite:\n",
    "    print(\"Vous avez gagné 1 000€ !\")\n",
    "else :\n",
    "    print(\"Vous n'avez rien gagné.\")\n",
    "print(\"Le nombre gagnant était\", aleatoire)\n"
   ]
  },
  {
   "cell_type": "markdown",
   "metadata": {},
   "source": [
    "**Exercice 11:**\n",
    "    \n",
    "Ecrire un programme qui permet de calculer la somme des chiffres d'un entier *n* donné. Le nombre *n* doit être compris entre 10 et 20 (bornes incluses)."
   ]
  },
  {
   "cell_type": "code",
   "execution_count": 48,
   "metadata": {},
   "outputs": [
    {
     "name": "stdout",
     "output_type": "stream",
     "text": [
      "La somme des chiffres est 2\n"
     ]
    }
   ],
   "source": [
    "nombre = int(input(\"Donnez un nombre entre 10 et 20\"))\n",
    "if nombre < 10 or nombre > 20 :\n",
    "    print(\"Mauvais nombre !\")\n",
    "else :\n",
    "    somme = nombre % 10\n",
    "    nombre = nombre // 10\n",
    "    somme += nombre % 10\n",
    "    print(\"La somme des chiffres est\", somme)\n",
    "    "
   ]
  },
  {
   "cell_type": "markdown",
   "metadata": {},
   "source": [
    "**Exercice 12:**\n",
    "\n",
    "1. Ecrire un programme qui permet de générer aléatoirement deux nombres entre 0 et 9, de calculer leurs différences (en valeur absolue), puis d'inviter l'utilisateur à répondre à la question suivante *que vaut abs(number1 - number2)?*. Le programme doit permettre à l'utilisateur de répondre plusieurs fois jusqu'à la saisie de la bonne réponse.\n",
    "2. Modifier le programme précédent de telle sorte qu'il génère cinq occurences à la suite invitant à répondre à la question précédente. A la fin, le programme affiche le nombre moyen de tentatives qu'il a fallu à l'utilisateur pour répondre à une question."
   ]
  },
  {
   "cell_type": "code",
   "execution_count": 51,
   "metadata": {
    "tags": []
   },
   "outputs": [
    {
     "name": "stdout",
     "output_type": "stream",
     "text": [
      "Bravo !\n"
     ]
    }
   ],
   "source": [
    "\n",
    "i# Exercice 12.1\n",
    "import random\n",
    "nombre1 = random.randint(0, 9) \n",
    "nombre2 = random.randint(0, 9)\n",
    "reponse = abs(nombre1 - nombre2)\n",
    "#if reponse < 0 :\n",
    "#    reponse = reponse * -1\n",
    "\n",
    "proposition = -1\n",
    "while proposition != reponse :\n",
    "    proposition = int(input(\"Que vaut abs(\" + str(nombre1) + \" - \" + str(nombre2) + \") ?\"))\n",
    "print(\"Bravo !\")"
   ]
  },
  {
   "cell_type": "code",
   "execution_count": 61,
   "metadata": {
    "tags": []
   },
   "outputs": [
    {
     "name": "stdout",
     "output_type": "stream",
     "text": [
      "Bravo ! En moyenne, vous avez réussi en 1.0 essais.\n"
     ]
    }
   ],
   "source": [
    "# Exercice 12.2\n",
    "import random\n",
    "nombre_essai_total = 0\n",
    "for i in range(5) :\n",
    "    nombre1 = random.randint(0, 9) \n",
    "    nombre2 = random.randint(0, 9)\n",
    "    reponse = abs(nombre1 - nombre2)\n",
    "\n",
    "    proposition = -1\n",
    "    nombre_essai = 0\n",
    "    while proposition != reponse :\n",
    "        proposition = int(input(\"Que vaut abs(\" + str(nombre1) + \" - \" + str(nombre2) + \") ?\"))\n",
    "        nombre_essai += 1\n",
    "    nombre_essai_total += nombre_essai\n",
    "print(\"Bravo ! En moyenne, vous avez réussi en\", nombre_essai_total/5 ,\"essais.\")\n"
   ]
  },
  {
   "cell_type": "markdown",
   "metadata": {},
   "source": [
    "**Exercice 13:**\n",
    "\n",
    "Ecrire un programme qui permet de calculer le nombre de mots dans une phrase saisie par l'utilisateur."
   ]
  },
  {
   "cell_type": "code",
   "execution_count": 78,
   "metadata": {
    "tags": []
   },
   "outputs": [
    {
     "name": "stdout",
     "output_type": "stream",
     "text": [
      "4\n"
     ]
    }
   ],
   "source": [
    "chaine = input(\"Entrez une chaine\")\n",
    "compteur = 1\n",
    "# Cette boucle à la syntaxe spéciale permet de parcourir un par un tous les caractères de la chaine de caractères.\n",
    "for caractere in chaine:\n",
    "    if caractere == \" \":\n",
    "        compteur += 1\n",
    "print(compteur)\n"
   ]
  },
  {
   "cell_type": "markdown",
   "metadata": {
    "slideshow": {
     "slide_type": "slide"
    }
   },
   "source": [
    "---\n",
    "\n",
    "## 4. Pour s'entraîner\n",
    "\n",
    "**Exercice 14:**\n",
    "    \n",
    "Soit la variable my_input = \"zoophysiology\". Ecrire un script qui permet d'afficher l'un des messages suivants en fonction du nombre maximum de *o* consécutifs dans la variable *my_input*. Par exemple, le script doit afficher \"I like studying birds! I want to become an ornithologist!\" parce qu'il y a deux *o* consécutifs, même s'il y a aussi des *o* individual.\n",
    "Ignorer les *o* majuscules - recherchez que les *o* minuscules.\n",
    "\n",
    "* Si \"o\" apparaît trois fois ou plus de suite, afficher le message \"I like going to the zoo!\"  \n",
    "* Si \"o\" apparaît deux fois, afficher le message \"I like studying birds! I want to become an ornithologist!\"  \n",
    "* Si \"o\" apparaît une seule fois, afficher le message \"I like studying fish! I want to become an ichthyologist!\"  \n",
    "* Si \"o\" n'apparaît pas dans la variable *my_input*, afficher le message \"I miss going to the zoo!\"  \n",
    "\n",
    "**Astuce :** Utiliser l'opérateur **in** qui renvoie **True** si la première chaîne se trouve dans la deuxième chaîne. "
   ]
  },
  {
   "cell_type": "code",
   "execution_count": 90,
   "metadata": {
    "slideshow": {
     "slide_type": "notes"
    }
   },
   "outputs": [
    {
     "name": "stdout",
     "output_type": "stream",
     "text": [
      "I like studying birds! I want to become an ornithologist!\n"
     ]
    }
   ],
   "source": [
    "# Avec l'operateur in\n",
    "my_input = \"zoophysiology\"\n",
    "if \"ooo\" in my_input :\n",
    "    print(\"I like going to the zoo!\")\n",
    "elif \"oo\" in my_input :\n",
    "    print(\"I like studying birds! I want to become an ornithologist!\")\n",
    "elif \"o\" in my_input :\n",
    "    print(\"I like studying fish! I want to become an ichthyologist!\")\n",
    "else :\n",
    "    print(\"I miss going to the zoo!\")"
   ]
  },
  {
   "cell_type": "markdown",
   "metadata": {
    "slideshow": {
     "slide_type": "slide"
    }
   },
   "source": [
    "**Exercice 15:**\n",
    "    \n",
    "Créer quatre variables nommées *team_1* et *team_2*, représentant deux noms d'équipes, et *team_1_score* et *team_2_score*, représentant les scores de ces deux équipes. \n",
    "Une équipe gagne si son score est supérieur à l'autre score de l'autre équipe.\n",
    " \n",
    "Ecrire un premier script qui permet d'afficher les messages suivants selon les valeurs entrées, ceci en utilisant seulement les quatres variables créées :\n",
    "* Si une équipe bat l'autre, affichez: \"\\[winner\\] beat \\[loser\\] by \\[margin\\]\"\n",
    "* Si aucune des équipes n'a gagné, affichez: \"\\[team_1\\] played \\[team_2\\] and it was a tie\"\n",
    "\n",
    "Ecrire un deuxième script qui permet d'afficher les mêmes messages mais en ajoutant trois variables de plus :\n",
    "* La variable *winner* pour définir l'équipe gagnante  \n",
    "* La variable *loser* pour définier l'équipe perdante  \n",
    "* La variable *margin* pour définir la différence entre les deux scores \n"
   ]
  },
  {
   "cell_type": "code",
   "execution_count": 99,
   "metadata": {
    "slideshow": {
     "slide_type": "notes"
    }
   },
   "outputs": [
    {
     "name": "stdout",
     "output_type": "stream",
     "text": [
      "Paris saint germain bat Olympique de Marseille par 3 but d'écart\n"
     ]
    }
   ],
   "source": [
    "team_1, team_2 = \"Paris saint germain\", \"Olympique de Marseille\"\n",
    "team_1_score, team_2_score = 3, 0\n",
    "\n",
    "if team_1_score > team_2_score :\n",
    "    print(team_1, \"bat\", team_2, \"par\", team_1_score - team_2_score, \"but d'écart\")\n",
    "elif team_2_score > team_1_score :\n",
    "    print(team_2, \"bat\", team_1, \"par\", team_2_score - team_1_score, \"but d'écart\")\n",
    "else :\n",
    "    print(team_1, \"played\", team_2, \"and it was a tie.\")"
   ]
  },
  {
   "cell_type": "code",
   "execution_count": 100,
   "metadata": {
    "slideshow": {
     "slide_type": "notes"
    }
   },
   "outputs": [
    {
     "name": "stdout",
     "output_type": "stream",
     "text": [
      "Les gens biens beat Les personnes charitables by 3\n"
     ]
    }
   ],
   "source": [
    "team_1, team_2 = \"Les gens biens\", \"Les personnes charitables\"\n",
    "team_1_score, team_2_score = 3, 0\n",
    "if team_1_score > team_2_score :\n",
    "    winner, loser, margin = team_1, team_2, team_1_score - team_2_score\n",
    "elif team_2_score > team_1_score :\n",
    "    winner, loser, margin = team_2, team_1, team_2_score - team_1_score\n",
    "\n",
    "if margin > 0 :\n",
    "    print(winner, \"beat\", loser, \"by\", margin)\n",
    "else :\n",
    "    print(team_1, \"played\", team_2, \"and it was a tie.\")\n",
    "    "
   ]
  },
  {
   "cell_type": "markdown",
   "metadata": {
    "slideshow": {
     "slide_type": "slide"
    }
   },
   "source": [
    "**Exercice 16:**\n",
    "    \n",
    "L'Indice de Masse Corporelle (IMC) permet d'estimer le poids idéal en fonction de la taille. Son calcul correspond au poids en kilogrammes divisé par le carré de la taille en mètre (IMC = poids en kg/taille² en m). Le chiffre obtenu permet d'estimer la corpulence et éventuellement le surpoids ou l'obésité chez l'adulte, homme ou femme.\n",
    "L'interprétation de l'IMC pour les personnes de 16 ans et plus est la suivante :\n",
    "* Moins de 18.5: Underweight\n",
    "* Entre 18.5 et 24.9: Normal\n",
    "* Entre 25.0 et 29.9: Overweight\n",
    "* Plus que 30.0: Obese\n",
    "\n",
    "Ecrire un programme qui permet de saisir un poids en *pounds* et une taille en *inches*, de calculer et d'afficher l'IMC à deux valeurs après la virgule, et d'afficher l'interprétation la plus adéquate. Notez qu'un *pound* équivaut à 0,45359237 kilogrammes et qu'un *inch* équivaut à 0,0254 mètre.  \n",
    "\n",
    "**Astuce :** Pour afficher deux valeurs après la virgule, utilisez la fonction **format(nom_variable, \".2f\")**. Exemple : **print('La moyenne est :', format(moyenne, \".2f\"))**"
   ]
  },
  {
   "cell_type": "code",
   "execution_count": 110,
   "metadata": {
    "slideshow": {
     "slide_type": "notes"
    }
   },
   "outputs": [
    {
     "name": "stdout",
     "output_type": "stream",
     "text": [
      "Vous faites 0.05 mètres pour 35.4 kilos.\n",
      "Votre IMC est de 13709.86\n",
      "Obese\n"
     ]
    }
   ],
   "source": [
    "ppoids = float(input(\"Saisissez un poids en pounds\"))\n",
    "taille = float(input(\"Saisissez une taille en inches\"))\n",
    "# Conversion en kilogrammes et mètre\n",
    "poids = poids * 0.45359237\n",
    "taille = taille * 0.0254\n",
    "print(\"Vous faites\", format(taille, \".2f\"), \"mètres pour\", format(poids, \".1f\"), \"kilos.\")\n",
    "\n",
    "imc = poids / (taille ** 2)\n",
    "print(\"Votre IMC est de\", format(imc, \".2f\"))\n",
    "\n",
    "if imc < 18.5 :\n",
    "    print(\"Underweight\")\n",
    "elif imc <= 24.9 :\n",
    "    print(\"Normal\")\n",
    "elif imc <= 29.9 :\n",
    "    print(\"Overweight\")\n",
    "elif imc >= 30 :\n",
    "    print(\"Obese\")"
   ]
  },
  {
   "cell_type": "markdown",
   "metadata": {},
   "source": [
    "**Exercice 17:**\n",
    "\n",
    "Ecrire un programme qui affiche un triangle d'étoiles de taille donnée, par exemple si on entre 6, le programme affiche:\n",
    "```\n",
    "*\n",
    "**\n",
    "***\n",
    "****\n",
    "*****\n",
    "******\n",
    "```"
   ]
  },
  {
   "cell_type": "code",
   "execution_count": 117,
   "metadata": {
    "tags": []
   },
   "outputs": [
    {
     "name": "stdout",
     "output_type": "stream",
     "text": [
      "*\n",
      "**\n",
      "***\n",
      "****\n"
     ]
    }
   ],
   "source": [
    "n = int(input(\"Entrez la taille du triangle\"))\n",
    "for i in range(1, n + 1) :\n",
    "    print(\"*\" * i)"
   ]
  },
  {
   "cell_type": "markdown",
   "metadata": {},
   "source": [
    "**Exercice 18:**\n",
    "\n",
    "Même exercice mais cette fois la sortie est\n",
    "```\n",
    "     *\n",
    "    **         \n",
    "   ***\n",
    "  ****\n",
    " *****\n",
    "******\n",
    "```"
   ]
  },
  {
   "cell_type": "code",
   "execution_count": 114,
   "metadata": {
    "tags": []
   },
   "outputs": [
    {
     "name": "stdout",
     "output_type": "stream",
     "text": [
      "     *\n",
      "    **\n",
      "   ***\n",
      "  ****\n",
      " *****\n",
      "******\n"
     ]
    }
   ],
   "source": [
    "n = int(input(\"Entrez la taille du triangle\"))\n",
    "for i in range(1, n + 1) :\n",
    "    print(\" \" * (n - i) + \"*\" * i)"
   ]
  },
  {
   "cell_type": "markdown",
   "metadata": {},
   "source": [
    "**Exercice 19:**\n",
    "\n",
    "Ecrire un programme qui calcule, étant donné un entier *n* rentré par l'utilisateur, la plus grande puissance de *n* inférieure à un million."
   ]
  },
  {
   "cell_type": "code",
   "execution_count": 121,
   "metadata": {
    "tags": []
   },
   "outputs": [
    {
     "name": "stdout",
     "output_type": "stream",
     "text": [
      "La plus grande puissance de 34 inférieure à un million est 3\n"
     ]
    }
   ],
   "source": [
    "n = int(input(\"Donnez un entier\"))\n",
    "resultat, puissance = 0, 0\n",
    "while resultat < 1000000 :\n",
    "    puissance += 1\n",
    "    resultat = n ** (puissance + 1)\n",
    "print(\"La plus grande puissance de\", n, \"inférieure à un million est\", puissance)"
   ]
  },
  {
   "cell_type": "code",
   "execution_count": 21,
   "metadata": {},
   "outputs": [
    {
     "name": "stdout",
     "output_type": "stream",
     "text": [
      "0\n",
      "1\n",
      "2\n",
      "3\n",
      "4\n",
      "5\n",
      "6\n",
      "7\n",
      "8\n",
      "9\n"
     ]
    }
   ],
   "source": [
    "n = int(input(\"saississez un nombre\"))\n",
    "for i in range(n - 10, n):\n",
    "    print (i)"
   ]
  },
  {
   "cell_type": "code",
   "execution_count": 28,
   "metadata": {},
   "outputs": [
    {
     "data": {
      "text/plain": [
       "int"
      ]
     },
     "execution_count": 28,
     "metadata": {},
     "output_type": "execute_result"
    }
   ],
   "source": [
    "a = 15\n",
    "type(a)"
   ]
  },
  {
   "cell_type": "code",
   "execution_count": 36,
   "metadata": {},
   "outputs": [
    {
     "name": "stdout",
     "output_type": "stream",
     "text": [
      "bravo\n"
     ]
    }
   ],
   "source": [
    "a = 45\n",
    "b = 10\n",
    "c = int(input(\"donner le résultat de a + b\"))\n",
    "while c != a + b :\n",
    "   c = int(input(\"donner le résultat de a + b\"))\n",
    "print(\"bravo\")   \n",
    "\n"
   ]
  },
  {
   "cell_type": "code",
   "execution_count": 46,
   "metadata": {},
   "outputs": [
    {
     "name": "stdout",
     "output_type": "stream",
     "text": [
      "40\n",
      "-1.632455532033676 -0.3675444679663241\n"
     ]
    }
   ],
   "source": [
    "import math\n",
    "a = int(input(\"donner une valeur pour a\"))\n",
    "b = int(input(\"donner une valeur pour b\"))\n",
    "c = int(input(\"donner une valeur pour c\"))\n",
    "delta = (b ** 2) - 4 * a * c\n",
    "print(delta)\n",
    "if delta < 0 :\n",
    "    print(\"trop complexe\")\n",
    "elif delta > 0 :\n",
    "    x1 = (-b - math.sqrt(delta)) / (2 * a)\n",
    "    x2 = (-b + math.sqrt(delta)) / (2 * a)\n",
    "    print(x1, x2)\n",
    "elif delta == 0 :\n",
    "    x0 = (-b) / (2 * a)\n",
    "    print(x0)\n",
    "\n"
   ]
  },
  {
   "cell_type": "code",
   "execution_count": 47,
   "metadata": {},
   "outputs": [
    {
     "name": "stdout",
     "output_type": "stream",
     "text": [
      "32\n",
      "33\n",
      "34\n",
      "35\n",
      "36\n",
      "37\n",
      "38\n",
      "39\n",
      "40\n",
      "41\n",
      "42\n",
      "43\n",
      "44\n",
      "45\n",
      "46\n",
      "47\n",
      "48\n",
      "49\n",
      "50\n",
      "51\n",
      "52\n",
      "53\n"
     ]
    }
   ],
   "source": [
    "a = 32\n",
    "b = 54\n",
    "for i in range(32, 54) :\n",
    "    if a < b :\n",
    "        print(i)"
   ]
  },
  {
   "cell_type": "code",
   "execution_count": 54,
   "metadata": {},
   "outputs": [
    {
     "name": "stdout",
     "output_type": "stream",
     "text": [
      "32\n",
      "1056\n",
      "35904\n",
      "1256640\n",
      "45239040\n",
      "1673844480\n",
      "63606090240\n",
      "2480637519360\n",
      "99225500774400\n",
      "4068245531750400\n",
      "170866312333516800\n",
      "7347251430341222400\n",
      "323279062935013785600\n",
      "14547557832075620352000\n",
      "669187660275478536192000\n",
      "31451820032947491201024000\n",
      "1509687361581479577649152000\n",
      "73974680717492499304808448000\n",
      "3698734035874624965240422400000\n",
      "188635435829605873227261542400000\n",
      "9809042663139505407817600204800000\n",
      "519879261146393786614332810854400000\n"
     ]
    }
   ],
   "source": [
    "a = 32\n",
    "b = 54\n",
    "S= 1\n",
    "for i in range(a, b):\n",
    "   S = S * i\n",
    "   print(S)\n",
    "    "
   ]
  },
  {
   "cell_type": "code",
   "execution_count": null,
   "metadata": {},
   "outputs": [],
   "source": []
  }
 ],
 "metadata": {
  "celltoolbar": "Diaporama",
  "interpreter": {
   "hash": "aed427c7a1222b30c501f2b5c2b75a25a598e3434eb7074437fef6b9ae4e235b"
  },
  "kernelspec": {
   "display_name": "Python 3.9.7 64-bit ('l1-python': conda)",
   "name": "python3"
  },
  "language_info": {
   "codemirror_mode": {
    "name": "ipython",
    "version": 3
   },
   "file_extension": ".py",
   "mimetype": "text/x-python",
   "name": "python",
   "nbconvert_exporter": "python",
   "pygments_lexer": "ipython3",
   "version": "3.9.7"
  }
 },
 "nbformat": 4,
 "nbformat_minor": 4
}
